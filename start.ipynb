{
 "cells": [
  {
   "cell_type": "code",
   "execution_count": 21,
   "metadata": {},
   "outputs": [],
   "source": [
    "from manim import *\n",
    "\n",
    "config.media_width = \"75%\"\n",
    "config.verbosity = \"WARNING\""
   ]
  },
  {
   "cell_type": "markdown",
   "metadata": {},
   "source": [
    "## 画个图？"
   ]
  },
  {
   "cell_type": "code",
   "execution_count": 86,
   "metadata": {},
   "outputs": [
    {
     "name": "stderr",
     "output_type": "stream",
     "text": [
      "                                                                                       \r"
     ]
    },
    {
     "data": {
      "text/html": [
       "<video src=\"media\\jupyter\\SquareAndCircle@2022-09-02@17-04-14.mp4\" controls autoplay loop style=\"max-width: 75%;\"  >\n",
       "      Your browser does not support the <code>video</code> element.\n",
       "    </video>"
      ],
      "text/plain": [
       "<IPython.core.display.Video object>"
      ]
     },
     "metadata": {},
     "output_type": "display_data"
    }
   ],
   "source": [
    "%%manim -qm SquareAndCircle\n",
    "\n",
    "class SquareAndCircle(Scene):\n",
    "    def construct(self):\n",
    "        c = Circle()\n",
    "        c.set_fill(PINK, opacity=0.5)\n",
    "\n",
    "        s = Square()\n",
    "        s.set_fill(BLUE, opacity=0.5)\n",
    "\n",
    "        s.next_to(c, RIGHT, buff=0.5)\n",
    "\n",
    "        # 使用 Create() 初始化图像附带描绘场景\n",
    "        self.play(Create(s))\n",
    "        # animate不带初始动作，直接绘图\n",
    "        self.play(c.animate.rotate(PI/4))\n",
    "\n",
    "        self.play(s.animate.rotate(PI/4))\n",
    "        self.play(Rotate(s, angle=PI/2))\n",
    "        self.wait()"
   ]
  },
  {
   "cell_type": "markdown",
   "metadata": {},
   "source": [
    "## 两种旋转\n",
    "\n",
    "### `.animate.rotate()` \n",
    "存在`初始状态`和`旋转对应角度后的状态`，动画原理是对比两种状态的差别，其差别决定缩放动画的幅度，而后转变为`旋转对应角度后的状态`。\n",
    "\n",
    "### `Rotate()`"
   ]
  },
  {
   "cell_type": "code",
   "execution_count": 97,
   "metadata": {},
   "outputs": [
    {
     "name": "stderr",
     "output_type": "stream",
     "text": [
      "                                                                                  \r"
     ]
    },
    {
     "data": {
      "text/html": [
       "<video src=\"media\\jupyter\\DIfferentRotations@2022-09-02@17-28-51.mp4\" controls autoplay loop style=\"max-width: 75%;\"  >\n",
       "      Your browser does not support the <code>video</code> element.\n",
       "    </video>"
      ],
      "text/plain": [
       "<IPython.core.display.Video object>"
      ]
     },
     "metadata": {},
     "output_type": "display_data"
    }
   ],
   "source": [
    "%%manim DIfferentRotations\n",
    "\n",
    "class DIfferentRotations(Scene):\n",
    "    def construct(self):\n",
    "        # shift() 是用来定位图形对象\n",
    "        ls = Square(color=BLUE, fill_opacity=0.7).shift(3*LEFT)\n",
    "        rs = Square(color=GREEN, fill_opacity=0.7).shift(3*RIGHT)\n",
    "        ms = Square(color=RED, fill_opacity=0.7)\n",
    "\n",
    "        for _ in range(2):\n",
    "            self.play(ls.animate.rotate(PI/4), ms.animate.rotate(PI/2), Rotate(rs, angle=PI), run_time=2)"
   ]
  },
  {
   "cell_type": "markdown",
   "metadata": {},
   "source": [
    "## 两种颜色填充方法\n",
    "\n",
    "### 1.实例化图形时指定\n",
    "```Python\n",
    "Circle(color=BLUE, fill_opacity=0.5)\n",
    "```\n",
    "\n",
    "### 2.实例化后指定\n",
    "```Python\n",
    "circle = Circle()\n",
    "circle.set_fill(BLUE, opacity=0.5)\n",
    "```\n",
    "\n",
    "二者都是绘制蓝色、半透明方框"
   ]
  },
  {
   "cell_type": "code",
   "execution_count": 93,
   "metadata": {},
   "outputs": [
    {
     "name": "stderr",
     "output_type": "stream",
     "text": [
      "                                                                        \r"
     ]
    },
    {
     "data": {
      "text/html": [
       "<video src=\"media\\jupyter\\Smear@2022-09-02@17-21-25.mp4\" controls autoplay loop style=\"max-width: 75%;\"  >\n",
       "      Your browser does not support the <code>video</code> element.\n",
       "    </video>"
      ],
      "text/plain": [
       "<IPython.core.display.Video object>"
      ]
     },
     "metadata": {},
     "output_type": "display_data"
    }
   ],
   "source": [
    "%%manim Smear\n",
    "\n",
    "class Smear(Scene):\n",
    "    def construct(self):\n",
    "        # 预先上色\n",
    "        pre = Circle(color=BLUE, fill_opacity=0.5).shift(2*LEFT)\n",
    "        delay = Circle().shift(2*RIGHT)\n",
    "\n",
    "        self.play(Create(pre), Create(delay))\n",
    "        # 展示后着色\n",
    "        delay.set_fill(color=RED, opacity=0.5)\n",
    "\n",
    "        self.wait()"
   ]
  }
 ],
 "metadata": {
  "kernelspec": {
   "display_name": "Python 3.9.13 ('manim')",
   "language": "python",
   "name": "python3"
  },
  "language_info": {
   "codemirror_mode": {
    "name": "ipython",
    "version": 3
   },
   "file_extension": ".py",
   "mimetype": "text/x-python",
   "name": "python",
   "nbconvert_exporter": "python",
   "pygments_lexer": "ipython3",
   "version": "3.9.13"
  },
  "orig_nbformat": 4,
  "vscode": {
   "interpreter": {
    "hash": "10b1904a7a6af4d6cbac969b9bc7089cb22118edef6e94d8cdf5f3d086fc3e07"
   }
  }
 },
 "nbformat": 4,
 "nbformat_minor": 2
}
